{
 "cells": [
  {
   "cell_type": "markdown",
   "id": "f5cd069b-c478-4dfd-924f-be72011073f8",
   "metadata": {},
   "source": [
    "# AI-Powered Blog Article Generator Using LangGraph and OpenAI & Perplexity\n",
    "\n",
    "Quickly create SEO-optimized blog articles on any topic in less than 5 minutes using LangChain, LangGraph, and OpenAI's GPT & Perplexity models. Ideal for startups, content marketers, and bloggers who need high-quality, unique content effortlessly\n",
    "\n",
    "## Overview\n",
    "\n",
    "- **Input Parameters:** Article Topic, Company Description  \n",
    "- **Output Structure:** Structured article object with title, introduction, key headings, subheadings, body content, SEO metadata, and conclusion.  \n",
    "- **Technologies:** LangChain, LangGraph, OpenAI API, Perplexity API\n",
    "- **Use Cases:** Fast content generation, scalable blogging, SEO optimization automation, content marketing, and rapid publishing.\n",
    "\n",
    "## Setup\n",
    "\n",
    "### Jupyter Notebook\n",
    "\n",
    "This and other tutorials are perhaps most conveniently run in a [Jupyter notebooks](https://jupyter.org/). Going through guides in an interactive environment is a great way to better understand them. See [here](https://jupyter.org/install) for instructions on how to install.\n",
    "\n",
    "### Installation\n",
    "\n",
    "This tutorial requires these langchain dependencies:"
   ]
  },
  {
   "cell_type": "code",
   "id": "6479d905-991f-42d7-abd7-1388e4afcf4b",
   "metadata": {
    "ExecuteTime": {
     "end_time": "2025-03-23T17:35:25.054955Z",
     "start_time": "2025-03-23T17:35:22.337420Z"
    }
   },
   "source": [
    "%pip install --quiet --upgrade langchain-community langgraph langchain-core \"langchain[openai]\" pydantic typing_extensions"
   ],
   "outputs": [
    {
     "name": "stdout",
     "output_type": "stream",
     "text": [
      "Note: you may need to restart the kernel to use updated packages.\n"
     ]
    },
    {
     "name": "stderr",
     "output_type": "stream",
     "text": [
      "WARNING: You are using pip version 21.2.3; however, version 25.0.1 is available.\n",
      "You should consider upgrading via the 'C:\\Users\\npden\\AppData\\Local\\Programs\\Python\\Python310\\python.exe -m pip install --upgrade pip' command.\n"
     ]
    }
   ],
   "execution_count": 3
  },
  {
   "cell_type": "markdown",
   "id": "2ffbf1b5-0a17-4311-a47a-33b92a533d6c",
   "metadata": {},
   "source": [
    "### LangSmith\n",
    "\n",
    "Many of the applications you build with LangChain will contain multiple steps with multiple invocations of LLM calls.\n",
    "As these applications get more complex, it becomes crucial to be able to inspect what exactly is going on inside your chain or agent.\n",
    "The best way to do this is with [LangSmith](https://smith.langchain.com).\n",
    "\n",
    "After you sign up at the link above, make sure to set your environment variables to start logging traces:"
   ]
  },
  {
   "cell_type": "code",
   "id": "a4e701ae-a4a8-491c-b3ef-0151834977c0",
   "metadata": {
    "ExecuteTime": {
     "end_time": "2025-03-23T17:35:43.525710Z",
     "start_time": "2025-03-23T17:35:28.804071Z"
    }
   },
   "source": [
    "import getpass\n",
    "import os\n",
    "\n",
    "os.environ[\"LANGSMITH_TRACING\"] = \"true\"\n",
    "os.environ[\"LANGSMITH_API_KEY\"] = getpass.getpass()"
   ],
   "outputs": [],
   "execution_count": 4
  },
  {
   "cell_type": "markdown",
   "id": "f6d05a68566ee1cc",
   "metadata": {},
   "source": [
    "## Step 1: Fetch Popular Information (Intermediate Output)\n",
    "\n",
    "First, we need to retrieve relevant information from the internet on our topic—a collection of popular articles. To achieve this, we'll leverage Perplexity AI through the ChatPerplexity component provided by langchain_community.\n",
    "\n",
    "The code provided assumes that your PPLX_API_KEY is set in your environment variables.\n",
    "To obtain your `PPLX_API_KEY`, navigate to [https://www.perplexity.ai/settings/api](https://www.perplexity.ai/settings/api).  \n",
    "Once logged in, you'll find your personal API key under the **\"API Settings\"** section. Copy this key and set it as an environment variable (`PPLX_API_KEY`) on your system."
   ]
  },
  {
   "cell_type": "code",
   "id": "9b54b3fb8d54678b",
   "metadata": {
    "ExecuteTime": {
     "end_time": "2025-03-23T17:35:51.451702Z",
     "start_time": "2025-03-23T17:35:45.945208Z"
    }
   },
   "source": [
    "os.environ[\"PPLX_API_KEY\"] = getpass.getpass()"
   ],
   "outputs": [],
   "execution_count": 5
  },
  {
   "cell_type": "markdown",
   "id": "8c293e146a557bb5",
   "metadata": {},
   "source": [
    "Here's a concise example demonstrating how to query Perplexity to retrieve information about popular articles related to a given topic:"
   ]
  },
  {
   "cell_type": "code",
   "id": "a9f3a0af5e2fe136",
   "metadata": {
    "ExecuteTime": {
     "end_time": "2025-03-23T17:36:02.109166Z",
     "start_time": "2025-03-23T17:35:53.604416Z"
    }
   },
   "source": [
    "from langchain_community.chat_models import ChatPerplexity\n",
    "from langchain_core.output_parsers import StrOutputParser\n",
    "from langchain_core.prompts import PromptTemplate\n",
    "\n",
    "perplexity_chat = ChatPerplexity(model=\"llama-3.1-sonar-small-128k-online\")\n",
    "popular_info_parser = StrOutputParser()\n",
    "\n",
    "popular_info_prompt_template = PromptTemplate(\n",
    "    template=\"\"\"\n",
    "You are a helpful research assistant. Find popular articles on the topic: {topic}\n",
    "\"\"\",\n",
    "    input_variables=[\"topic\"]\n",
    ")\n",
    "\n",
    "fetch_popular_info_chain = popular_info_prompt_template | perplexity_chat | popular_info_parser\n",
    "\n",
    "topic = input(\"Enter a topic: \")\n",
    "\n",
    "popular_info = fetch_popular_info_chain.invoke({\"topic\": topic})\n",
    "\n",
    "print(popular_info)"
   ],
   "outputs": [
    {
     "name": "stdout",
     "output_type": "stream",
     "text": [
      "Here are some popular articles and sources on the topic of AI agents:\n",
      "\n",
      "1. **World Economic Forum: \"What are the risks and benefits of 'AI agents'?\"**\n",
      "   - This article from the World Economic Forum discusses the evolving landscape of AI agents, their benefits in enhancing productivity and efficiency, and the risks associated with their deployment, such as data privacy concerns and ethical challenges[1].\n",
      "\n",
      "2. **AWS: \"What are AI Agents?\"**\n",
      "   - AWS provides a comprehensive overview of AI agents, highlighting their components, how they work, and their benefits in improving productivity, reducing costs, and enhancing customer experiences. The article also discusses the challenges of using AI agents, including data privacy concerns and technical complexities[2].\n",
      "\n",
      "3. **Boston Consulting Group (BCG): \"AI Agents: What They Are and Their Business Impact\"**\n",
      "   - BCG's article explains the role of AI agents in automating tasks, analyzing data, and collaborating with humans. It discusses the components of AI agents, their impact on business workflows, and the future integration of these agents into various industries[3].\n",
      "\n",
      "4. **IBM: \"AI Agents vs. AI Assistants\"**\n",
      "   - IBM's article distinguishes between AI agents and AI assistants. It explains that AI agents are proactive, working autonomously to achieve specific goals, while AI assistants are more reactive and perform tasks at the user's request. The article highlights the complementary nature of these two types of AI systems and their applications in various fields[4].\n",
      "\n",
      "5. **BuiltIn.com: \"Here Are the 41 Most Disruptive Leaders in the Artificial Intelligence Industry\"**\n",
      "   - While not exclusively focused on AI agents, this article provides insights into the leadership and innovation in the AI industry, including mentions of companies like Unlikely AI and ElevenLabs that are working on advanced AI technologies such as generative models and symbolic logic integration[5].\n"
     ]
    }
   ],
   "execution_count": 6
  },
  {
   "cell_type": "markdown",
   "id": "13d52604573e049e",
   "metadata": {},
   "source": [
    "### Explanation:\n",
    "\n",
    "- `PromptTemplate` is used to construct the instruction dynamically based on user input.\n",
    "- `ChatPerplexit` executes the prompt via Perplexity AI to fetch up-to-date information.\n",
    "- `StrOutputParser` converts the output from the model into a human-readable string.\n",
    "- Finally, the user-provided `topic` triggers a request to Perplexity to receive popular articles.\n",
    "\n",
    "This workflow demonstrates a simple yet effective way to integrate Perplexity AI with LangChain for research-oriented applications."
   ]
  },
  {
   "cell_type": "markdown",
   "id": "86e1d18474421c60",
   "metadata": {},
   "source": [
    "## Step 2: Implementing the Article Generation Process\n",
    "\n",
    "Next, we need to implement the process for generating an article\n",
    "\n",
    "The prompt we send to OpenAI's model will include:\n",
    "\n",
    "- The information about popular articles retrieved earlier.\n",
    "- Contextual meta-information about our company to ensure the generated article aligns with our company's specifics.\n",
    "\n",
    "The following data model represents the structured format of the generated article output:\n"
   ]
  },
  {
   "cell_type": "code",
   "id": "8695986ffeed28ee",
   "metadata": {
    "ExecuteTime": {
     "end_time": "2025-03-23T17:36:17.604479Z",
     "start_time": "2025-03-23T17:36:17.589791Z"
    }
   },
   "source": [
    "from typing_extensions import List\n",
    "from pydantic import BaseModel, Field\n",
    "\n",
    "\n",
    "class Article(BaseModel):\n",
    "    title: str = Field(description=\"SEO-optimized title\")\n",
    "    introduction: str = Field(description=\"Introduction paragraph\")\n",
    "    main_points: List[str] = Field(description=\"Main bullet points of the article\")\n",
    "    conclusion: str = Field(description=\"Conclusion paragraph\")"
   ],
   "outputs": [],
   "execution_count": 7
  },
  {
   "cell_type": "markdown",
   "id": "28f3f3c76815a72c",
   "metadata": {},
   "source": [
    "### Example Instance:\n",
    "\n",
    "```json\n",
    "{\n",
    "  \"title\": \"How Artificial Intelligence is Transforming the Fintech Industry\",\n",
    "  \"introduction\": \"Artificial Intelligence (AI) is reshaping the financial technology sector, providing unprecedented opportunities for innovation...\",\n",
    "  \"main_points\": [\n",
    "    \"AI-driven fraud detection improves security\",\n",
    "    \"Personalized customer experiences through machine learning\",\n",
    "    \"Enhanced algorithmic trading capabilities\",\n",
    "    \"Automation of compliance and regulatory tasks\"\n",
    "  ],\n",
    "  \"conclusion\": \"Integrating AI into fintech provides significant competitive advantages and operational efficiencies, positioning businesses for sustained growth.\"\n",
    "}\n",
    "```\n",
    "\n",
    "This structured output format helps ensure clarity, consistency, and ease of integration for further processing or publication purposes."
   ]
  },
  {
   "cell_type": "markdown",
   "id": "bbb6ae9d22db57fd",
   "metadata": {},
   "source": [
    "To generate articles using OpenAI’s language models, you'll need an `OPENAI_API_KEY`. \n",
    "\n",
    "You can obtain this key by following these steps:\n",
    "\n",
    "1. Navigate to [https://platform.openai.com/api-keys](https://platform.openai.com/api-keys).\n",
    "2. Sign in to your OpenAI account (or register if you don't have one yet).\n",
    "3. Click **\"Create new secret key\"**.\n",
    "4. Copy the generated API key and securely store it.\n",
    "\n",
    "After obtaining the API key, set it as an environment variable in your system:"
   ]
  },
  {
   "cell_type": "code",
   "id": "bf025c026bc68967",
   "metadata": {
    "ExecuteTime": {
     "end_time": "2025-03-23T17:36:27.514933Z",
     "start_time": "2025-03-23T17:36:21.773640Z"
    }
   },
   "source": [
    "os.environ[\"OPENAI_API_KEY\"] = getpass.getpass()"
   ],
   "outputs": [],
   "execution_count": 8
  },
  {
   "cell_type": "markdown",
   "id": "937c9cf85e212ecc",
   "metadata": {},
   "source": [
    "Here's a concise example demonstrating how to generate an article using OpenAI and the previously defined Article data model:"
   ]
  },
  {
   "cell_type": "code",
   "id": "4639b7faa4625d6",
   "metadata": {
    "ExecuteTime": {
     "end_time": "2025-03-23T17:36:49.280853Z",
     "start_time": "2025-03-23T17:36:31.687798Z"
    }
   },
   "source": [
    "import json\n",
    "\n",
    "from langchain_openai import ChatOpenAI\n",
    "from langchain_core.output_parsers import JsonOutputParser\n",
    "from langchain_core.prompts import PromptTemplate\n",
    "\n",
    "llm = ChatOpenAI(model=\"gpt-4o-mini\", temperature=0.7)\n",
    "\n",
    "article_parser = JsonOutputParser(pydantic_object=Article)\n",
    "\n",
    "article_prompt_template = PromptTemplate(\n",
    "    template=\"\"\"\n",
    "You are an SEO copywriter. Write an article based on the information below.\n",
    "\n",
    "Topic: {topic}\n",
    "Company: {company_description}\n",
    "\n",
    "Popular information:\n",
    "{popular_info}\n",
    "\n",
    "{format_instructions}\n",
    "\"\"\",\n",
    "    input_variables=[\"topic\", \"company_description\", \"popular_info\"],\n",
    "    partial_variables={\"format_instructions\": article_parser.get_format_instructions()},\n",
    ")\n",
    "\n",
    "generate_article_chain = article_prompt_template | llm | article_parser\n",
    "\n",
    "company_description = input(\"Enter a company description: \")\n",
    "\n",
    "article = generate_article_chain.invoke({\n",
    "    \"topic\": topic,\n",
    "    \"company_description\": company_description,\n",
    "    \"popular_info\": popular_info\n",
    "})\n",
    "\n",
    "# Convert the data to a JSON formatted string with 4 spaces of indentation\n",
    "json_str = json.dumps(article, indent=4)\n",
    "# Print the pretty-printed JSON string\n",
    "print(json_str)"
   ],
   "outputs": [
    {
     "name": "stdout",
     "output_type": "stream",
     "text": [
      "{\n",
      "    \"title\": \"Unlocking Business Potential with AI Agents: A Guide by Boostcorner AI\",\n",
      "    \"introduction\": \"In today's fast-paced digital landscape, the integration of AI agents into business operations is becoming increasingly essential. These intelligent systems can enhance productivity, streamline processes, and ultimately transform how companies operate. At Boostcorner AI, our team of business transformation experts and AI engineers is dedicated to helping organizations transition smoothly to AI-driven operations, ensuring they harness the full potential of these advanced technologies.\",\n",
      "    \"main_points\": [\n",
      "        \"AI agents are proactive systems that autonomously perform tasks to achieve specific goals, distinguishing them from reactive AI assistants.\",\n",
      "        \"The deployment of AI agents can significantly enhance productivity and efficiency in various business sectors, as highlighted by the World Economic Forum.\",\n",
      "        \"AWS outlines the components and functionalities of AI agents, emphasizing their role in improving customer experiences and reducing operational costs.\",\n",
      "        \"The Boston Consulting Group discusses how AI agents can automate tasks, analyze vast amounts of data, and collaborate effectively with human workers.\",\n",
      "        \"While AI agents offer many benefits, challenges such as data privacy concerns and technical complexities must be addressed for successful implementation.\"\n",
      "    ],\n",
      "    \"conclusion\": \"As businesses look to the future, integrating AI agents into their operations will be crucial for maintaining a competitive edge. With the expertise of Boostcorner AI, organizations can navigate the complexities of AI adoption and unlock new levels of efficiency and innovation. Embrace the future of business with AI agents and transform your operations today.\"\n",
      "}\n"
     ]
    }
   ],
   "execution_count": 9
  },
  {
   "cell_type": "markdown",
   "id": "c6d9c55a776da8bd",
   "metadata": {},
   "source": [
    "### Explanation:\n",
    "\n",
    "This script demonstrates how to use OpenAI's GPT-4o-mini model to generate an SEO-optimized article in a structured JSON format using LangChain. The output follows a predefined schema based on a pydantic model (Article). \n",
    "\n",
    "- `ChatOpenAI`: LangChain wrapper for OpenAI's chat-based models.\n",
    "- `JsonOutputParser`: Ensures the LLM output is parsed into a structured Pydantic model.\n",
    "\n",
    "The final output is a structured SEO article tailored to the selected topic and company, ready for publishing or further processing."
   ]
  },
  {
   "cell_type": "markdown",
   "id": "a1a63615cf18e97f",
   "metadata": {},
   "source": [
    "## Step 3: Orchestrating the Workflow with LangGraph\n",
    "\n",
    "To streamline the process, we will use **LangGraph** to define a workflow that:\n",
    "\n",
    "1. Retrieves popular information related to the topic (via Perplexity).\n",
    "2. Passes that information along with company metadata to OpenAI to generate a structured article.\n",
    "\n",
    "LangGraph allows us to define this multi-step logic declaratively using a graph-based execution model.\n",
    "\n",
    "To support a structured and type-safe workflow with LangGraph, we define the following data models:"
   ]
  },
  {
   "cell_type": "code",
   "id": "b872aaf65a973e1",
   "metadata": {
    "ExecuteTime": {
     "end_time": "2025-03-23T17:36:59.733924Z",
     "start_time": "2025-03-23T17:36:59.716613Z"
    }
   },
   "source": [
    "from typing_extensions import TypedDict\n",
    "\n",
    "\n",
    "# Input data model\n",
    "class ArticleInput(TypedDict):\n",
    "    topic: str\n",
    "    company_description: str\n",
    "\n",
    "\n",
    "# Unified workflow state\n",
    "class WorkflowState(TypedDict):\n",
    "    inputs: ArticleInput\n",
    "    popular_info: str\n",
    "    article: Article"
   ],
   "outputs": [],
   "execution_count": 10
  },
  {
   "cell_type": "markdown",
   "id": "82ea6be41958a7d7",
   "metadata": {},
   "source": [
    "These functions define the logic for each step in the LangGraph workflow: fetching external information and generating the article."
   ]
  },
  {
   "cell_type": "code",
   "id": "9f936648afe1dbe",
   "metadata": {
    "ExecuteTime": {
     "end_time": "2025-03-23T17:37:02.206496Z",
     "start_time": "2025-03-23T17:37:02.192889Z"
    }
   },
   "source": [
    "def fetch_popular_info(state: WorkflowState):\n",
    "    response = fetch_popular_info_chain.invoke({\"topic\": state[\"inputs\"][\"topic\"]})\n",
    "    return {\"popular_info\": response}\n",
    "\n",
    "\n",
    "def generate_article(state: WorkflowState):\n",
    "    response = generate_article_chain.invoke({\n",
    "        \"topic\": state[\"inputs\"][\"topic\"],\n",
    "        \"company_description\": state[\"inputs\"][\"company_description\"],\n",
    "        \"popular_info\": state[\"popular_info\"]\n",
    "    })\n",
    "    return {\"article\": response}"
   ],
   "outputs": [],
   "execution_count": 11
  },
  {
   "cell_type": "markdown",
   "id": "af6990ad1e4395d3",
   "metadata": {},
   "source": [
    "We will now define the `StateGraph` that orchestrates the two main steps:\n",
    "\n",
    "1. **Fetching popular article information** using Perplexity.  \n",
    "2. **Generating a structured article** using OpenAI."
   ]
  },
  {
   "cell_type": "code",
   "id": "4e3e85d719b95a86",
   "metadata": {
    "ExecuteTime": {
     "end_time": "2025-03-23T17:37:04.510085Z",
     "start_time": "2025-03-23T17:37:04.472934Z"
    }
   },
   "source": [
    "from langgraph.graph import END, StateGraph\n",
    "\n",
    "# Workflow graph\n",
    "workflow = StateGraph(WorkflowState)\n",
    "workflow.add_node(\"fetch_popular_info\", fetch_popular_info)\n",
    "workflow.add_node(\"generate_article\", generate_article)\n",
    "\n",
    "workflow.set_entry_point(\"fetch_popular_info\")\n",
    "workflow.add_edge(\"fetch_popular_info\", \"generate_article\")\n",
    "workflow.add_edge(\"generate_article\", END)\n",
    "\n",
    "# Compile the app\n",
    "app = workflow.compile()"
   ],
   "outputs": [],
   "execution_count": 12
  },
  {
   "cell_type": "markdown",
   "id": "11ecee9e42206b7e",
   "metadata": {},
   "source": [
    "Once the graph is compiled, you can invoke it with user input:"
   ]
  },
  {
   "cell_type": "code",
   "id": "e1d4a64cce5a078b",
   "metadata": {
    "ExecuteTime": {
     "end_time": "2025-03-23T17:37:30.626282Z",
     "start_time": "2025-03-23T17:37:08.049632Z"
    }
   },
   "source": [
    "topic = input(\"Enter a topic: \")\n",
    "company_description = input(\"Enter a company description: \")\n",
    "\n",
    "inputs = ArticleInput(\n",
    "    topic=topic,\n",
    "    company_description=company_description\n",
    ")\n",
    "\n",
    "result = app.invoke({\"inputs\": inputs})\n",
    "\n",
    "article = Article(**result[\"article\"])\n",
    "\n",
    "print(\"Title:\", article.title)\n",
    "print(\"\\nIntroduction:\", article.introduction)\n",
    "print(\"\\nMain Points:\")\n",
    "for point in article.main_points:\n",
    "    print(\"-\", point)\n",
    "print(\"\\nConclusion:\", article.conclusion)"
   ],
   "outputs": [
    {
     "name": "stdout",
     "output_type": "stream",
     "text": [
      "Title: Harnessing the Power of AI Agents: Transform Your Business with Boostcorner AI\n",
      "\n",
      "Introduction: In today's fast-paced business landscape, the integration of AI agents is revolutionizing operations across various industries. These autonomous systems are designed to enhance productivity, streamline workflows, and empower organizations to thrive in an increasingly competitive environment. At Boostcorner AI, our team of business transformation experts and AI engineers is dedicated to helping your business transition to AI-driven operations seamlessly. This article explores the capabilities, benefits, and real-world applications of AI agents, highlighting their potential to redefine the future of work.\n",
      "\n",
      "Main Points:\n",
      "- AI agents are autonomous systems that sense and act upon their environment to achieve specific goals, significantly boosting productivity.\n",
      "- By 2027, it's projected that half of the companies utilizing generative AI will have initiated AI agent pilots capable of handling complex tasks with minimal human oversight.\n",
      "- Unlike AI assistants that react to user requests, AI agents proactively work to achieve designated objectives, enhancing operational efficiency.\n",
      "- AI agents are being deployed across various sectors, including IT automation, software design, lead management, and customer support, showcasing their versatility in improving business processes.\n",
      "- The growth trajectory of AI agents is impressive, with an expected CAGR of 45% over the next five years, indicating their crucial role in future business operations.\n",
      "- Real-world applications of AI agents include marketing automation, healthcare support, and lead management, demonstrating their ability to automate repetitive tasks and improve outcomes.\n",
      "\n",
      "Conclusion: As AI agents continue to evolve, their impact on business operations will only deepen. Embracing these technologies can lead to transformative changes in how organizations function, allowing teams to focus on strategic initiatives rather than mundane tasks. At Boostcorner AI, we are committed to guiding your business through this transformative journey, ensuring a smooth transition to AI-driven operations that harness the full potential of these innovative agents. The future of work is here, and it is powered by AI.\n"
     ]
    }
   ],
   "execution_count": 13
  },
  {
   "cell_type": "markdown",
   "id": "51c01cdb8b25725f",
   "metadata": {},
   "source": [
    "## 🧾 Conclusion\n",
    "\n",
    "In this tutorial, we built a structured, multi-step AI workflow for generating SEO-optimized articles using real-time web data and large language models. The workflow was implemented in three modular and composable steps:\n",
    "\n",
    "1. **Information Retrieval via Perplexity**  \n",
    "   We integrated the `ChatPerplexity` component from `langchain_community` to fetch up-to-date, relevant content on a given topic. This enables the model to work with fresh and trending data, significantly improving the relevance and quality of generated output.\n",
    "\n",
    "2. **Structured Article Generation via OpenAI**  \n",
    "   Using OpenAI's `gpt-4o-mini`, we defined a strongly typed prompt that produces content in a consistent and machine-readable format (`Article` Pydantic model). Company-specific metadata was incorporated to personalize and contextualize the final article.\n",
    "\n",
    "3. **Workflow Orchestration with LangGraph**  \n",
    "   We combined both steps into a single executable pipeline using `LangGraph`. With `StateGraph`, we clearly defined the state transitions and data flow, allowing the workflow to scale, remain testable, and be easily extended in the future (e.g., content moderation, post-processing, publishing).\n",
    "\n",
    "By following this architecture, you can create dynamic, data-informed content generation systems that are modular, maintainable, and production-ready."
   ]
  }
 ],
 "metadata": {
  "kernelspec": {
   "display_name": "Python 3 (ipykernel)",
   "language": "python",
   "name": "python3"
  },
  "language_info": {
   "codemirror_mode": {
    "name": "ipython",
    "version": 3
   },
   "file_extension": ".py",
   "mimetype": "text/x-python",
   "name": "python",
   "nbconvert_exporter": "python",
   "pygments_lexer": "ipython3",
   "version": "3.10.0"
  }
 },
 "nbformat": 4,
 "nbformat_minor": 5
}
